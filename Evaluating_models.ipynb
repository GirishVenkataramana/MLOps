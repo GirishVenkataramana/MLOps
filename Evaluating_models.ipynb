{
 "cells": [
  {
   "cell_type": "code",
   "execution_count": 20,
   "metadata": {},
   "outputs": [],
   "source": [
    "# Importing Libraries\n",
    "from sklearn.datasets import make_classification\n",
    "from sklearn.model_selection import train_test_split\n",
    "from sklearn.ensemble import RandomForestClassifier\n",
    "import pandas as pd\n",
    "import mlflow"
   ]
  },
  {
   "cell_type": "code",
   "execution_count": 21,
   "metadata": {},
   "outputs": [
    {
     "data": {
      "text/plain": [
       "<Experiment: artifact_location='mlflow-artifacts:/159889069568961193', creation_time=1734243043122, experiment_id='159889069568961193', last_update_time=1734243043122, lifecycle_stage='active', name='classic_evaluation', tags={}>"
      ]
     },
     "execution_count": 21,
     "metadata": {},
     "output_type": "execute_result"
    }
   ],
   "source": [
    "# Creating MLFlow Experiment\n",
    "\n",
    "mlflow.set_tracking_uri(uri=\"http://127.0.0.1:5000\")\n",
    "experiment_name= \"classic_evaluation\"\n",
    "mlflow.set_experiment(experiment_name)"
   ]
  },
  {
   "cell_type": "code",
   "execution_count": 22,
   "metadata": {},
   "outputs": [],
   "source": [
    "# Creating a sample dataset\n",
    "\n",
    "x, y= make_classification(n_samples=1000, n_features=5, n_classes=2, random_state=42)\n",
    "\n",
    "x_df=pd.DataFrame(x, columns=[f\"feature_{i+1}\"for i in range(x.shape[1])])\n",
    "y_df=pd.DataFrame(y, columns=['target'])\n",
    "x_train, x_test,y_train,y_test = train_test_split(x_df, y_df, test_size=0.2, random_state=42)\n"
   ]
  },
  {
   "cell_type": "code",
   "execution_count": 23,
   "metadata": {},
   "outputs": [
    {
     "name": "stderr",
     "output_type": "stream",
     "text": [
      "c:\\Users\\admin\\anaconda3\\Lib\\site-packages\\sklearn\\base.py:1474: DataConversionWarning: A column-vector y was passed when a 1d array was expected. Please change the shape of y to (n_samples,), for example using ravel().\n",
      "  return fit_method(estimator, *args, **kwargs)\n"
     ]
    }
   ],
   "source": [
    "# Random Forest Classifier\n",
    "rfc= RandomForestClassifier(n_estimators=1)\n",
    "rfc.fit(x_train, y_train)\n",
    "predictions=rfc.predict(x_test)"
   ]
  },
  {
   "cell_type": "code",
   "execution_count": 24,
   "metadata": {},
   "outputs": [
    {
     "name": "stdout",
     "output_type": "stream",
     "text": [
      "   target  predictions\n",
      "0       1            1\n",
      "1       1            1\n",
      "2       1            1\n",
      "3       1            1\n",
      "4       0            1\n"
     ]
    }
   ],
   "source": [
    "eval_df= pd.DataFrame({\n",
    "    \"target\": y_test.to_numpy().flatten(),\n",
    "    \"predictions\": predictions\n",
    "\n",
    "})\n",
    "print(eval_df.head())"
   ]
  },
  {
   "cell_type": "code",
   "execution_count": 25,
   "metadata": {},
   "outputs": [
    {
     "name": "stderr",
     "output_type": "stream",
     "text": [
      "c:\\Users\\admin\\anaconda3\\Lib\\site-packages\\mlflow\\types\\utils.py:435: UserWarning: Hint: Inferred schema contains integer column(s). Integer columns in Python cannot represent missing values. If your input data contains missing values at inference time, it will be encoded as floats and will cause a schema enforcement error. The best way to avoid this problem is to infer the model schema based on a realistic data sample (training dataset) that includes missing values. Alternatively, you can declare integer columns as doubles (float64) whenever these columns may have missing values. See `Handling Integers With Missing Values <https://www.mlflow.org/docs/latest/models.html#handling-integers-with-missing-values>`_ for more details.\n",
      "  warnings.warn(\n",
      "2024/12/15 20:57:17 WARNING mlflow.models.evaluation.evaluators.classifier: According to the evaluation dataset label values, the model type looks like None, but you specified model type 'classifier'. Please verify that you set the `model_type` and `dataset` arguments correctly.\n",
      "2024/12/15 20:57:17 INFO mlflow.models.evaluation.evaluators.classifier: The evaluation dataset is inferred as binary dataset, positive label is 1, negative label is 0.\n",
      "2024/12/15 20:57:17 INFO mlflow.models.evaluation.default_evaluator: Testing metrics on first row...\n",
      "2024/12/15 20:57:23 WARNING mlflow.models.evaluation.evaluators.shap: SHAP or matplotlib package is not installed, so model explainability insights will not be logged.\n"
     ]
    },
    {
     "name": "stdout",
     "output_type": "stream",
     "text": [
      "🏃 View run unique-pig-136 at: http://127.0.0.1:5000/#/experiments/159889069568961193/runs/3375410416d34d4196abf75aea66f4fd\n",
      "🧪 View experiment at: http://127.0.0.1:5000/#/experiments/159889069568961193\n"
     ]
    }
   ],
   "source": [
    "#using the eval_df of evaluating model\n",
    "\n",
    "result = mlflow.evaluate(\n",
    "    data= eval_df,\n",
    "    model_type=\"classifier\",\n",
    "    targets=\"target\",\n",
    "    predictions=\"predictions\"\n",
    ")"
   ]
  },
  {
   "cell_type": "code",
   "execution_count": 26,
   "metadata": {},
   "outputs": [],
   "source": [
    "# Evaluating the model using estimator\n",
    "\n",
    "# Using model as a function\n",
    "\n",
    "\n",
    "def random_forest_clf(model_input):\n",
    "    return rfc.predict(model_input)\n"
   ]
  },
  {
   "cell_type": "code",
   "execution_count": 27,
   "metadata": {},
   "outputs": [],
   "source": [
    "eval_df_for_model= x_test.copy()\n",
    "eval_df_for_model[\"target\"]=y_test"
   ]
  },
  {
   "cell_type": "code",
   "execution_count": 28,
   "metadata": {},
   "outputs": [
    {
     "data": {
      "text/html": [
       "<div>\n",
       "<style scoped>\n",
       "    .dataframe tbody tr th:only-of-type {\n",
       "        vertical-align: middle;\n",
       "    }\n",
       "\n",
       "    .dataframe tbody tr th {\n",
       "        vertical-align: top;\n",
       "    }\n",
       "\n",
       "    .dataframe thead th {\n",
       "        text-align: right;\n",
       "    }\n",
       "</style>\n",
       "<table border=\"1\" class=\"dataframe\">\n",
       "  <thead>\n",
       "    <tr style=\"text-align: right;\">\n",
       "      <th></th>\n",
       "      <th>feature_1</th>\n",
       "      <th>feature_2</th>\n",
       "      <th>feature_3</th>\n",
       "      <th>feature_4</th>\n",
       "      <th>feature_5</th>\n",
       "      <th>target</th>\n",
       "    </tr>\n",
       "  </thead>\n",
       "  <tbody>\n",
       "    <tr>\n",
       "      <th>521</th>\n",
       "      <td>1.250932</td>\n",
       "      <td>-1.064291</td>\n",
       "      <td>-2.238231</td>\n",
       "      <td>-0.914547</td>\n",
       "      <td>1.261286</td>\n",
       "      <td>1</td>\n",
       "    </tr>\n",
       "    <tr>\n",
       "      <th>737</th>\n",
       "      <td>-0.196283</td>\n",
       "      <td>0.190820</td>\n",
       "      <td>-0.243384</td>\n",
       "      <td>0.154804</td>\n",
       "      <td>-0.256094</td>\n",
       "      <td>1</td>\n",
       "    </tr>\n",
       "    <tr>\n",
       "      <th>740</th>\n",
       "      <td>2.659138</td>\n",
       "      <td>-0.265773</td>\n",
       "      <td>1.072978</td>\n",
       "      <td>-0.996758</td>\n",
       "      <td>-2.195564</td>\n",
       "      <td>1</td>\n",
       "    </tr>\n",
       "    <tr>\n",
       "      <th>660</th>\n",
       "      <td>0.087778</td>\n",
       "      <td>-0.021011</td>\n",
       "      <td>-0.667780</td>\n",
       "      <td>-0.038709</td>\n",
       "      <td>-0.042586</td>\n",
       "      <td>1</td>\n",
       "    </tr>\n",
       "    <tr>\n",
       "      <th>411</th>\n",
       "      <td>-0.662457</td>\n",
       "      <td>0.741043</td>\n",
       "      <td>-0.358340</td>\n",
       "      <td>0.568499</td>\n",
       "      <td>-1.101298</td>\n",
       "      <td>0</td>\n",
       "    </tr>\n",
       "  </tbody>\n",
       "</table>\n",
       "</div>"
      ],
      "text/plain": [
       "     feature_1  feature_2  feature_3  feature_4  feature_5  target\n",
       "521   1.250932  -1.064291  -2.238231  -0.914547   1.261286       1\n",
       "737  -0.196283   0.190820  -0.243384   0.154804  -0.256094       1\n",
       "740   2.659138  -0.265773   1.072978  -0.996758  -2.195564       1\n",
       "660   0.087778  -0.021011  -0.667780  -0.038709  -0.042586       1\n",
       "411  -0.662457   0.741043  -0.358340   0.568499  -1.101298       0"
      ]
     },
     "execution_count": 28,
     "metadata": {},
     "output_type": "execute_result"
    }
   ],
   "source": [
    "eval_df_for_model.head()"
   ]
  },
  {
   "cell_type": "code",
   "execution_count": 29,
   "metadata": {},
   "outputs": [
    {
     "name": "stderr",
     "output_type": "stream",
     "text": [
      "c:\\Users\\admin\\anaconda3\\Lib\\site-packages\\mlflow\\types\\utils.py:435: UserWarning: Hint: Inferred schema contains integer column(s). Integer columns in Python cannot represent missing values. If your input data contains missing values at inference time, it will be encoded as floats and will cause a schema enforcement error. The best way to avoid this problem is to infer the model schema based on a realistic data sample (training dataset) that includes missing values. Alternatively, you can declare integer columns as doubles (float64) whenever these columns may have missing values. See `Handling Integers With Missing Values <https://www.mlflow.org/docs/latest/models.html#handling-integers-with-missing-values>`_ for more details.\n",
      "  warnings.warn(\n",
      "2024/12/15 20:57:25 WARNING mlflow.models.evaluation.evaluators.classifier: According to the evaluation dataset label values, the model type looks like None, but you specified model type 'classifier'. Please verify that you set the `model_type` and `dataset` arguments correctly.\n",
      "2024/12/15 20:57:25 INFO mlflow.models.evaluation.evaluators.classifier: The evaluation dataset is inferred as binary dataset, positive label is 1, negative label is 0.\n",
      "2024/12/15 20:57:25 INFO mlflow.models.evaluation.default_evaluator: Testing metrics on first row...\n",
      "2024/12/15 20:57:30 WARNING mlflow.models.evaluation.evaluators.shap: SHAP or matplotlib package is not installed, so model explainability insights will not be logged.\n"
     ]
    },
    {
     "name": "stdout",
     "output_type": "stream",
     "text": [
      "🏃 View run illustrious-auk-883 at: http://127.0.0.1:5000/#/experiments/159889069568961193/runs/6e21099c8a3e4901b63c9fa636e3544e\n",
      "🧪 View experiment at: http://127.0.0.1:5000/#/experiments/159889069568961193\n"
     ]
    }
   ],
   "source": [
    "result= mlflow.evaluate(\n",
    "    model=random_forest_clf,\n",
    "    data=eval_df_for_model,\n",
    "    model_type=\"classifier\",\n",
    "    targets=\"target\",\n",
    "    predictions = \"predictions\"\n",
    "\n",
    ")"
   ]
  },
  {
   "cell_type": "code",
   "execution_count": 30,
   "metadata": {},
   "outputs": [
    {
     "data": {
      "text/plain": [
       "{'true_negatives': 81,\n",
       " 'false_positives': 16,\n",
       " 'false_negatives': 17,\n",
       " 'true_positives': 86,\n",
       " 'example_count': 200,\n",
       " 'accuracy_score': 0.835,\n",
       " 'recall_score': 0.8349514563106796,\n",
       " 'precision_score': 0.8431372549019608,\n",
       " 'f1_score': 0.8390243902439024}"
      ]
     },
     "execution_count": 30,
     "metadata": {},
     "output_type": "execute_result"
    }
   ],
   "source": [
    "result.metrics"
   ]
  },
  {
   "cell_type": "code",
   "execution_count": 31,
   "metadata": {},
   "outputs": [],
   "source": [
    "# Addition of extra Metrics\n",
    "\n",
    "from mlflow.metrics import make_metric\n",
    "from sklearn.metrics import f1_score\n"
   ]
  },
  {
   "cell_type": "code",
   "execution_count": 32,
   "metadata": {},
   "outputs": [],
   "source": [
    "def custom_accuracy(df,__builtin_metrics):\n",
    "    targets= df[\"target\"]\n",
    "    predictions =df[\"prediction\"]\n",
    "    return sum(targets==predictions)/len(targets)\n",
    "\n",
    "def custom_f1_score(df,__builtin_metrics):\n",
    "    targets=df[\"target\"]\n",
    "    predictions =df[\"prediction\"]\n",
    "    return f1_score(targets, predictions, average=\"weighted\")"
   ]
  },
  {
   "cell_type": "code",
   "execution_count": 33,
   "metadata": {},
   "outputs": [],
   "source": [
    "custom_metric_accuracy=make_metric(\n",
    "    eval_fn=custom_accuracy,\n",
    "    name=\"custom_accuracy\",\n",
    "    greater_is_better = True\n",
    ")\n",
    "\n",
    "custom_metric_f1_score=make_metric(\n",
    "    eval_fn=custom_f1_score,\n",
    "    name=\"custom_f1_score\",\n",
    "    greater_is_better = True\n",
    ")"
   ]
  },
  {
   "cell_type": "code",
   "execution_count": 34,
   "metadata": {},
   "outputs": [
    {
     "name": "stderr",
     "output_type": "stream",
     "text": [
      "c:\\Users\\admin\\anaconda3\\Lib\\site-packages\\mlflow\\types\\utils.py:435: UserWarning: Hint: Inferred schema contains integer column(s). Integer columns in Python cannot represent missing values. If your input data contains missing values at inference time, it will be encoded as floats and will cause a schema enforcement error. The best way to avoid this problem is to infer the model schema based on a realistic data sample (training dataset) that includes missing values. Alternatively, you can declare integer columns as doubles (float64) whenever these columns may have missing values. See `Handling Integers With Missing Values <https://www.mlflow.org/docs/latest/models.html#handling-integers-with-missing-values>`_ for more details.\n",
      "  warnings.warn(\n",
      "2024/12/15 20:57:32 WARNING mlflow.models.evaluation.evaluators.classifier: According to the evaluation dataset label values, the model type looks like None, but you specified model type 'classifier'. Please verify that you set the `model_type` and `dataset` arguments correctly.\n",
      "2024/12/15 20:57:32 INFO mlflow.models.evaluation.evaluators.classifier: The evaluation dataset is inferred as binary dataset, positive label is 1, negative label is 0.\n",
      "2024/12/15 20:57:32 INFO mlflow.models.evaluation.default_evaluator: Testing metrics on first row...\n",
      "2024/12/15 20:57:38 WARNING mlflow.models.evaluation.evaluators.shap: SHAP or matplotlib package is not installed, so model explainability insights will not be logged.\n"
     ]
    },
    {
     "name": "stdout",
     "output_type": "stream",
     "text": [
      "🏃 View run resilient-shrike-248 at: http://127.0.0.1:5000/#/experiments/159889069568961193/runs/0f15f20db3c945ae893e3026662627d3\n",
      "🧪 View experiment at: http://127.0.0.1:5000/#/experiments/159889069568961193\n"
     ]
    }
   ],
   "source": [
    "result = mlflow.evaluate(\n",
    "    model = random_forest_clf,\n",
    "    data= eval_df_for_model,\n",
    "    model_type=\"classifier\",\n",
    "    targets=\"target\",\n",
    "    predictions = \"predictions\",\n",
    "    extra_metrics=[custom_metric_accuracy,custom_metric_f1_score]\n",
    ")"
   ]
  },
  {
   "cell_type": "code",
   "execution_count": 36,
   "metadata": {},
   "outputs": [
    {
     "name": "stdout",
     "output_type": "stream",
     "text": [
      "Index(['feature_1', 'feature_2', 'feature_3', 'feature_4', 'feature_5',\n",
      "       'target'],\n",
      "      dtype='object')\n"
     ]
    }
   ],
   "source": [
    "print(eval_df_for_model.columns)"
   ]
  },
  {
   "cell_type": "code",
   "execution_count": 37,
   "metadata": {},
   "outputs": [
    {
     "data": {
      "text/plain": [
       "{'confusion_matrix': ImageEvaluationArtifact(uri='mlflow-artifacts:/159889069568961193/0f15f20db3c945ae893e3026662627d3/artifacts/confusion_matrix.png')}"
      ]
     },
     "execution_count": 37,
     "metadata": {},
     "output_type": "execute_result"
    }
   ],
   "source": [
    "result.artifacts"
   ]
  },
  {
   "cell_type": "code",
   "execution_count": 44,
   "metadata": {},
   "outputs": [],
   "source": [
    "# Adding custom artifacts\n",
    "\n",
    "from sklearn.metrics import PrecisionRecallDisplay\n",
    "import matplotlib.pyplot as plt\n",
    "\n"
   ]
  },
  {
   "cell_type": "code",
   "execution_count": 47,
   "metadata": {},
   "outputs": [],
   "source": [
    "def custom_precision_recall_curve(df, __builtin_metrics, _artifacts_dir):\n",
    "    targets =df[\"target\"],\n",
    "    predictions=df[\"prediction\"],\n",
    "    pr_display = PrecisionRecallDisplay.from_predictions(targets, predictions)\n",
    "    return {\"precision_recall_curve\":pr_display.figure_}"
   ]
  },
  {
   "cell_type": "code",
   "execution_count": 48,
   "metadata": {},
   "outputs": [
    {
     "name": "stderr",
     "output_type": "stream",
     "text": [
      "c:\\Users\\admin\\anaconda3\\Lib\\site-packages\\mlflow\\types\\utils.py:435: UserWarning: Hint: Inferred schema contains integer column(s). Integer columns in Python cannot represent missing values. If your input data contains missing values at inference time, it will be encoded as floats and will cause a schema enforcement error. The best way to avoid this problem is to infer the model schema based on a realistic data sample (training dataset) that includes missing values. Alternatively, you can declare integer columns as doubles (float64) whenever these columns may have missing values. See `Handling Integers With Missing Values <https://www.mlflow.org/docs/latest/models.html#handling-integers-with-missing-values>`_ for more details.\n",
      "  warnings.warn(\n",
      "2024/12/15 21:39:51 WARNING mlflow.models.evaluation.evaluators.classifier: According to the evaluation dataset label values, the model type looks like None, but you specified model type 'classifier'. Please verify that you set the `model_type` and `dataset` arguments correctly.\n",
      "2024/12/15 21:39:51 INFO mlflow.models.evaluation.evaluators.classifier: The evaluation dataset is inferred as binary dataset, positive label is 1, negative label is 0.\n",
      "2024/12/15 21:39:52 INFO mlflow.models.evaluation.default_evaluator: Testing metrics on first row...\n"
     ]
    },
    {
     "name": "stdout",
     "output_type": "stream",
     "text": [
      "🏃 View run sedate-cow-732 at: http://127.0.0.1:5000/#/experiments/159889069568961193/runs/efeddcf064074505ad005e969b2acf75\n",
      "🧪 View experiment at: http://127.0.0.1:5000/#/experiments/159889069568961193\n"
     ]
    },
    {
     "ename": "ValueError",
     "evalue": "The target y is not binary. Got multilabel-indicator type of target.",
     "output_type": "error",
     "traceback": [
      "\u001b[1;31m---------------------------------------------------------------------------\u001b[0m",
      "\u001b[1;31mValueError\u001b[0m                                Traceback (most recent call last)",
      "Cell \u001b[1;32mIn[48], line 1\u001b[0m\n\u001b[1;32m----> 1\u001b[0m result \u001b[38;5;241m=\u001b[39m mlflow\u001b[38;5;241m.\u001b[39mevaluate(\n\u001b[0;32m      2\u001b[0m     data\u001b[38;5;241m=\u001b[39meval_df,\n\u001b[0;32m      3\u001b[0m     model_type\u001b[38;5;241m=\u001b[39m \u001b[38;5;124m\"\u001b[39m\u001b[38;5;124mclassifier\u001b[39m\u001b[38;5;124m\"\u001b[39m,\n\u001b[0;32m      4\u001b[0m     targets \u001b[38;5;241m=\u001b[39m\u001b[38;5;124m\"\u001b[39m\u001b[38;5;124mtarget\u001b[39m\u001b[38;5;124m\"\u001b[39m,\n\u001b[0;32m      5\u001b[0m     predictions \u001b[38;5;241m=\u001b[39m\u001b[38;5;124m\"\u001b[39m\u001b[38;5;124mpredictions\u001b[39m\u001b[38;5;124m\"\u001b[39m,\n\u001b[0;32m      6\u001b[0m     extra_metrics\u001b[38;5;241m=\u001b[39m[custom_metric_accuracy,custom_metric_f1_score],\n\u001b[0;32m      7\u001b[0m     custom_artifacts \u001b[38;5;241m=\u001b[39m [custom_precision_recall_curve]\n\u001b[0;32m      8\u001b[0m \n\u001b[0;32m      9\u001b[0m )\n",
      "File \u001b[1;32mc:\\Users\\admin\\anaconda3\\Lib\\site-packages\\mlflow\\models\\evaluation\\base.py:1758\u001b[0m, in \u001b[0;36mevaluate\u001b[1;34m(model, data, model_type, targets, predictions, dataset_path, feature_names, evaluators, evaluator_config, custom_metrics, extra_metrics, custom_artifacts, validation_thresholds, baseline_model, env_manager, model_config, baseline_config, inference_params)\u001b[0m\n\u001b[0;32m   1755\u001b[0m predictions_expected_in_model_output \u001b[38;5;241m=\u001b[39m predictions \u001b[38;5;28;01mif\u001b[39;00m model \u001b[38;5;129;01mis\u001b[39;00m \u001b[38;5;129;01mnot\u001b[39;00m \u001b[38;5;28;01mNone\u001b[39;00m \u001b[38;5;28;01melse\u001b[39;00m \u001b[38;5;28;01mNone\u001b[39;00m\n\u001b[0;32m   1757\u001b[0m \u001b[38;5;28;01mtry\u001b[39;00m:\n\u001b[1;32m-> 1758\u001b[0m     evaluate_result \u001b[38;5;241m=\u001b[39m _evaluate(\n\u001b[0;32m   1759\u001b[0m         model\u001b[38;5;241m=\u001b[39mmodel,\n\u001b[0;32m   1760\u001b[0m         model_type\u001b[38;5;241m=\u001b[39mmodel_type,\n\u001b[0;32m   1761\u001b[0m         dataset\u001b[38;5;241m=\u001b[39mdataset,\n\u001b[0;32m   1762\u001b[0m         run_id\u001b[38;5;241m=\u001b[39mrun_id,\n\u001b[0;32m   1763\u001b[0m         evaluator_name_list\u001b[38;5;241m=\u001b[39mevaluator_name_list,\n\u001b[0;32m   1764\u001b[0m         evaluator_name_to_conf_map\u001b[38;5;241m=\u001b[39mevaluator_name_to_conf_map,\n\u001b[0;32m   1765\u001b[0m         custom_metrics\u001b[38;5;241m=\u001b[39mcustom_metrics,\n\u001b[0;32m   1766\u001b[0m         extra_metrics\u001b[38;5;241m=\u001b[39mextra_metrics,\n\u001b[0;32m   1767\u001b[0m         custom_artifacts\u001b[38;5;241m=\u001b[39mcustom_artifacts,\n\u001b[0;32m   1768\u001b[0m         predictions\u001b[38;5;241m=\u001b[39mpredictions_expected_in_model_output,\n\u001b[0;32m   1769\u001b[0m         evaluators\u001b[38;5;241m=\u001b[39mevaluators,\n\u001b[0;32m   1770\u001b[0m     )\n\u001b[0;32m   1771\u001b[0m \u001b[38;5;28;01mfinally\u001b[39;00m:\n\u001b[0;32m   1772\u001b[0m     \u001b[38;5;28;01mif\u001b[39;00m \u001b[38;5;28misinstance\u001b[39m(model, _ServedPyFuncModel):\n",
      "File \u001b[1;32mc:\\Users\\admin\\anaconda3\\Lib\\site-packages\\mlflow\\models\\evaluation\\base.py:1025\u001b[0m, in \u001b[0;36m_evaluate\u001b[1;34m(model, model_type, dataset, run_id, evaluator_name_list, evaluator_name_to_conf_map, custom_metrics, extra_metrics, custom_artifacts, predictions, evaluators)\u001b[0m\n\u001b[0;32m   1023\u001b[0m \u001b[38;5;28;01mif\u001b[39;00m eval_\u001b[38;5;241m.\u001b[39mevaluator\u001b[38;5;241m.\u001b[39mcan_evaluate(model_type\u001b[38;5;241m=\u001b[39mmodel_type, evaluator_config\u001b[38;5;241m=\u001b[39meval_\u001b[38;5;241m.\u001b[39mconfig):\n\u001b[0;32m   1024\u001b[0m     \u001b[38;5;28;01mwith\u001b[39;00m configure_autologging_for_evaluation(enable_tracing\u001b[38;5;241m=\u001b[39mshould_enable_tracing):\n\u001b[1;32m-> 1025\u001b[0m         eval_result \u001b[38;5;241m=\u001b[39m eval_\u001b[38;5;241m.\u001b[39mevaluator\u001b[38;5;241m.\u001b[39mevaluate(\n\u001b[0;32m   1026\u001b[0m             model\u001b[38;5;241m=\u001b[39mmodel,\n\u001b[0;32m   1027\u001b[0m             model_type\u001b[38;5;241m=\u001b[39mmodel_type,\n\u001b[0;32m   1028\u001b[0m             dataset\u001b[38;5;241m=\u001b[39mdataset,\n\u001b[0;32m   1029\u001b[0m             run_id\u001b[38;5;241m=\u001b[39mrun_id,\n\u001b[0;32m   1030\u001b[0m             evaluator_config\u001b[38;5;241m=\u001b[39meval_\u001b[38;5;241m.\u001b[39mconfig,\n\u001b[0;32m   1031\u001b[0m             custom_metrics\u001b[38;5;241m=\u001b[39mcustom_metrics,\n\u001b[0;32m   1032\u001b[0m             extra_metrics\u001b[38;5;241m=\u001b[39mextra_metrics,\n\u001b[0;32m   1033\u001b[0m             custom_artifacts\u001b[38;5;241m=\u001b[39mcustom_artifacts,\n\u001b[0;32m   1034\u001b[0m             predictions\u001b[38;5;241m=\u001b[39mpredictions,\n\u001b[0;32m   1035\u001b[0m         )\n\u001b[0;32m   1037\u001b[0m     \u001b[38;5;28;01mif\u001b[39;00m eval_result \u001b[38;5;129;01mis\u001b[39;00m \u001b[38;5;129;01mnot\u001b[39;00m \u001b[38;5;28;01mNone\u001b[39;00m:\n\u001b[0;32m   1038\u001b[0m         eval_results\u001b[38;5;241m.\u001b[39mappend(eval_result)\n",
      "File \u001b[1;32mc:\\Users\\admin\\anaconda3\\Lib\\site-packages\\mlflow\\models\\evaluation\\default_evaluator.py:869\u001b[0m, in \u001b[0;36mBuiltInEvaluator.evaluate\u001b[1;34m(self, model_type, dataset, run_id, evaluator_config, model, custom_metrics, extra_metrics, custom_artifacts, predictions, **kwargs)\u001b[0m\n\u001b[0;32m    867\u001b[0m \u001b[38;5;28;01mwith\u001b[39;00m TempDir() \u001b[38;5;28;01mas\u001b[39;00m temp_dir, matplotlib\u001b[38;5;241m.\u001b[39mrc_context(_matplotlib_config):\n\u001b[0;32m    868\u001b[0m     \u001b[38;5;28mself\u001b[39m\u001b[38;5;241m.\u001b[39mtemp_dir \u001b[38;5;241m=\u001b[39m temp_dir\n\u001b[1;32m--> 869\u001b[0m     \u001b[38;5;28;01mreturn\u001b[39;00m \u001b[38;5;28mself\u001b[39m\u001b[38;5;241m.\u001b[39m_evaluate(model, extra_metrics, custom_artifacts)\n",
      "File \u001b[1;32mc:\\Users\\admin\\anaconda3\\Lib\\site-packages\\mlflow\\models\\evaluation\\evaluators\\classifier.py:75\u001b[0m, in \u001b[0;36mClassifierEvaluator._evaluate\u001b[1;34m(self, model, extra_metrics, custom_artifacts, **kwargs)\u001b[0m\n\u001b[0;32m     73\u001b[0m \u001b[38;5;28mself\u001b[39m\u001b[38;5;241m.\u001b[39m_compute_builtin_metrics(model)\n\u001b[0;32m     74\u001b[0m \u001b[38;5;28mself\u001b[39m\u001b[38;5;241m.\u001b[39mevaluate_metrics(extra_metrics, prediction\u001b[38;5;241m=\u001b[39m\u001b[38;5;28mself\u001b[39m\u001b[38;5;241m.\u001b[39my_pred, target\u001b[38;5;241m=\u001b[39m\u001b[38;5;28mself\u001b[39m\u001b[38;5;241m.\u001b[39my_true)\n\u001b[1;32m---> 75\u001b[0m \u001b[38;5;28mself\u001b[39m\u001b[38;5;241m.\u001b[39mevaluate_and_log_custom_artifacts(\n\u001b[0;32m     76\u001b[0m     custom_artifacts, prediction\u001b[38;5;241m=\u001b[39m\u001b[38;5;28mself\u001b[39m\u001b[38;5;241m.\u001b[39my_pred, target\u001b[38;5;241m=\u001b[39m\u001b[38;5;28mself\u001b[39m\u001b[38;5;241m.\u001b[39my_true\n\u001b[0;32m     77\u001b[0m )\n\u001b[0;32m     79\u001b[0m \u001b[38;5;66;03m# Log metrics and artifacts\u001b[39;00m\n\u001b[0;32m     80\u001b[0m \u001b[38;5;28mself\u001b[39m\u001b[38;5;241m.\u001b[39mlog_metrics()\n",
      "File \u001b[1;32mc:\\Users\\admin\\anaconda3\\Lib\\site-packages\\mlflow\\models\\evaluation\\default_evaluator.py:477\u001b[0m, in \u001b[0;36mBuiltInEvaluator.evaluate_and_log_custom_artifacts\u001b[1;34m(self, custom_artifacts, prediction, target)\u001b[0m\n\u001b[0;32m    468\u001b[0m \u001b[38;5;28;01mwith\u001b[39;00m tempfile\u001b[38;5;241m.\u001b[39mTemporaryDirectory() \u001b[38;5;28;01mas\u001b[39;00m artifacts_dir:\n\u001b[0;32m    469\u001b[0m     \u001b[38;5;66;03m# deepcopying eval_df and builtin_metrics for each custom artifact function call,\u001b[39;00m\n\u001b[0;32m    470\u001b[0m     \u001b[38;5;66;03m# in case the user modifies them inside their function(s).\u001b[39;00m\n\u001b[0;32m    471\u001b[0m     custom_artifact_tuple \u001b[38;5;241m=\u001b[39m _CustomArtifact(\n\u001b[0;32m    472\u001b[0m         function\u001b[38;5;241m=\u001b[39mcustom_artifact,\n\u001b[0;32m    473\u001b[0m         index\u001b[38;5;241m=\u001b[39mindex,\n\u001b[0;32m    474\u001b[0m         name\u001b[38;5;241m=\u001b[39m\u001b[38;5;28mgetattr\u001b[39m(custom_artifact, \u001b[38;5;124m\"\u001b[39m\u001b[38;5;124m__name__\u001b[39m\u001b[38;5;124m\"\u001b[39m, \u001b[38;5;28mrepr\u001b[39m(custom_artifact)),\n\u001b[0;32m    475\u001b[0m         artifacts_dir\u001b[38;5;241m=\u001b[39martifacts_dir,\n\u001b[0;32m    476\u001b[0m     )\n\u001b[1;32m--> 477\u001b[0m     artifact_results \u001b[38;5;241m=\u001b[39m _evaluate_custom_artifacts(\n\u001b[0;32m    478\u001b[0m         custom_artifact_tuple,\n\u001b[0;32m    479\u001b[0m         eval_df\u001b[38;5;241m.\u001b[39mcopy(),\n\u001b[0;32m    480\u001b[0m         copy\u001b[38;5;241m.\u001b[39mdeepcopy(\u001b[38;5;28mself\u001b[39m\u001b[38;5;241m.\u001b[39mmetrics_values),\n\u001b[0;32m    481\u001b[0m     )\n\u001b[0;32m    482\u001b[0m     \u001b[38;5;28;01mif\u001b[39;00m artifact_results:\n\u001b[0;32m    483\u001b[0m         \u001b[38;5;28;01mfor\u001b[39;00m artifact_name, raw_artifact \u001b[38;5;129;01min\u001b[39;00m artifact_results\u001b[38;5;241m.\u001b[39mitems():\n",
      "File \u001b[1;32mc:\\Users\\admin\\anaconda3\\Lib\\site-packages\\mlflow\\models\\evaluation\\default_evaluator.py:169\u001b[0m, in \u001b[0;36m_evaluate_custom_artifacts\u001b[1;34m(custom_artifact_tuple, eval_df, builtin_metrics)\u001b[0m\n\u001b[0;32m    150\u001b[0m \u001b[38;5;250m\u001b[39m\u001b[38;5;124;03m\"\"\"\u001b[39;00m\n\u001b[0;32m    151\u001b[0m \u001b[38;5;124;03mThis function calls the `custom_artifact` function and performs validations on the returned\u001b[39;00m\n\u001b[0;32m    152\u001b[0m \u001b[38;5;124;03mresult to ensure that they are in the expected format. It will raise a MlflowException if\u001b[39;00m\n\u001b[1;32m   (...)\u001b[0m\n\u001b[0;32m    162\u001b[0m \u001b[38;5;124;03m    A dictionary of artifacts.\u001b[39;00m\n\u001b[0;32m    163\u001b[0m \u001b[38;5;124;03m\"\"\"\u001b[39;00m\n\u001b[0;32m    164\u001b[0m exception_header \u001b[38;5;241m=\u001b[39m (\n\u001b[0;32m    165\u001b[0m     \u001b[38;5;124mf\u001b[39m\u001b[38;5;124m\"\u001b[39m\u001b[38;5;124mCustom artifact function \u001b[39m\u001b[38;5;124m'\u001b[39m\u001b[38;5;132;01m{\u001b[39;00mcustom_artifact_tuple\u001b[38;5;241m.\u001b[39mname\u001b[38;5;132;01m}\u001b[39;00m\u001b[38;5;124m'\u001b[39m\u001b[38;5;124m \u001b[39m\u001b[38;5;124m\"\u001b[39m\n\u001b[0;32m    166\u001b[0m     \u001b[38;5;124m\"\u001b[39m\u001b[38;5;124m at index \u001b[39m\u001b[38;5;132;01m{custom_artifact_tuple.index}\u001b[39;00m\u001b[38;5;124m\"\u001b[39m\n\u001b[0;32m    167\u001b[0m     \u001b[38;5;124m\"\u001b[39m\u001b[38;5;124m in the `custom_artifacts` parameter\u001b[39m\u001b[38;5;124m\"\u001b[39m\n\u001b[0;32m    168\u001b[0m )\n\u001b[1;32m--> 169\u001b[0m artifacts \u001b[38;5;241m=\u001b[39m custom_artifact_tuple\u001b[38;5;241m.\u001b[39mfunction(\n\u001b[0;32m    170\u001b[0m     eval_df, builtin_metrics, custom_artifact_tuple\u001b[38;5;241m.\u001b[39martifacts_dir\n\u001b[0;32m    171\u001b[0m )\n\u001b[0;32m    173\u001b[0m \u001b[38;5;28;01mif\u001b[39;00m artifacts \u001b[38;5;129;01mis\u001b[39;00m \u001b[38;5;28;01mNone\u001b[39;00m:\n\u001b[0;32m    174\u001b[0m     _logger\u001b[38;5;241m.\u001b[39mwarning(\u001b[38;5;124mf\u001b[39m\u001b[38;5;124m\"\u001b[39m\u001b[38;5;132;01m{\u001b[39;00mexception_header\u001b[38;5;132;01m}\u001b[39;00m\u001b[38;5;124m returned None.\u001b[39m\u001b[38;5;124m\"\u001b[39m)\n",
      "Cell \u001b[1;32mIn[47], line 4\u001b[0m, in \u001b[0;36mcustom_precision_recall_curve\u001b[1;34m(df, __builtin_metrics, _artifacts_dir)\u001b[0m\n\u001b[0;32m      2\u001b[0m targets \u001b[38;5;241m=\u001b[39mdf[\u001b[38;5;124m\"\u001b[39m\u001b[38;5;124mtarget\u001b[39m\u001b[38;5;124m\"\u001b[39m],\n\u001b[0;32m      3\u001b[0m predictions\u001b[38;5;241m=\u001b[39mdf[\u001b[38;5;124m\"\u001b[39m\u001b[38;5;124mprediction\u001b[39m\u001b[38;5;124m\"\u001b[39m],\n\u001b[1;32m----> 4\u001b[0m pr_display \u001b[38;5;241m=\u001b[39m PrecisionRecallDisplay\u001b[38;5;241m.\u001b[39mfrom_predictions(targets, predictions)\n\u001b[0;32m      5\u001b[0m \u001b[38;5;28;01mreturn\u001b[39;00m {\u001b[38;5;124m\"\u001b[39m\u001b[38;5;124mprecision_recall_curve\u001b[39m\u001b[38;5;124m\"\u001b[39m:pr_display\u001b[38;5;241m.\u001b[39mfigure_}\n",
      "File \u001b[1;32mc:\\Users\\admin\\anaconda3\\Lib\\site-packages\\sklearn\\metrics\\_plot\\precision_recall_curve.py:471\u001b[0m, in \u001b[0;36mPrecisionRecallDisplay.from_predictions\u001b[1;34m(cls, y_true, y_pred, sample_weight, pos_label, drop_intermediate, name, ax, plot_chance_level, chance_level_kw, **kwargs)\u001b[0m\n\u001b[0;32m    370\u001b[0m \u001b[38;5;129m@classmethod\u001b[39m\n\u001b[0;32m    371\u001b[0m \u001b[38;5;28;01mdef\u001b[39;00m \u001b[38;5;21mfrom_predictions\u001b[39m(\n\u001b[0;32m    372\u001b[0m     \u001b[38;5;28mcls\u001b[39m,\n\u001b[1;32m   (...)\u001b[0m\n\u001b[0;32m    383\u001b[0m     \u001b[38;5;241m*\u001b[39m\u001b[38;5;241m*\u001b[39mkwargs,\n\u001b[0;32m    384\u001b[0m ):\n\u001b[0;32m    385\u001b[0m \u001b[38;5;250m    \u001b[39m\u001b[38;5;124;03m\"\"\"Plot precision-recall curve given binary class predictions.\u001b[39;00m\n\u001b[0;32m    386\u001b[0m \n\u001b[0;32m    387\u001b[0m \u001b[38;5;124;03m    Parameters\u001b[39;00m\n\u001b[1;32m   (...)\u001b[0m\n\u001b[0;32m    469\u001b[0m \u001b[38;5;124;03m    >>> plt.show()\u001b[39;00m\n\u001b[0;32m    470\u001b[0m \u001b[38;5;124;03m    \"\"\"\u001b[39;00m\n\u001b[1;32m--> 471\u001b[0m     pos_label, name \u001b[38;5;241m=\u001b[39m \u001b[38;5;28mcls\u001b[39m\u001b[38;5;241m.\u001b[39m_validate_from_predictions_params(\n\u001b[0;32m    472\u001b[0m         y_true, y_pred, sample_weight\u001b[38;5;241m=\u001b[39msample_weight, pos_label\u001b[38;5;241m=\u001b[39mpos_label, name\u001b[38;5;241m=\u001b[39mname\n\u001b[0;32m    473\u001b[0m     )\n\u001b[0;32m    475\u001b[0m     precision, recall, _ \u001b[38;5;241m=\u001b[39m precision_recall_curve(\n\u001b[0;32m    476\u001b[0m         y_true,\n\u001b[0;32m    477\u001b[0m         y_pred,\n\u001b[1;32m   (...)\u001b[0m\n\u001b[0;32m    480\u001b[0m         drop_intermediate\u001b[38;5;241m=\u001b[39mdrop_intermediate,\n\u001b[0;32m    481\u001b[0m     )\n\u001b[0;32m    482\u001b[0m     average_precision \u001b[38;5;241m=\u001b[39m average_precision_score(\n\u001b[0;32m    483\u001b[0m         y_true, y_pred, pos_label\u001b[38;5;241m=\u001b[39mpos_label, sample_weight\u001b[38;5;241m=\u001b[39msample_weight\n\u001b[0;32m    484\u001b[0m     )\n",
      "File \u001b[1;32mc:\\Users\\admin\\anaconda3\\Lib\\site-packages\\sklearn\\utils\\_plotting.py:50\u001b[0m, in \u001b[0;36m_BinaryClassifierCurveDisplayMixin._validate_from_predictions_params\u001b[1;34m(cls, y_true, y_pred, sample_weight, pos_label, name)\u001b[0m\n\u001b[0;32m     47\u001b[0m check_matplotlib_support(\u001b[38;5;124mf\u001b[39m\u001b[38;5;124m\"\u001b[39m\u001b[38;5;132;01m{\u001b[39;00m\u001b[38;5;28mcls\u001b[39m\u001b[38;5;241m.\u001b[39m\u001b[38;5;18m__name__\u001b[39m\u001b[38;5;132;01m}\u001b[39;00m\u001b[38;5;124m.from_predictions\u001b[39m\u001b[38;5;124m\"\u001b[39m)\n\u001b[0;32m     49\u001b[0m \u001b[38;5;28;01mif\u001b[39;00m type_of_target(y_true) \u001b[38;5;241m!=\u001b[39m \u001b[38;5;124m\"\u001b[39m\u001b[38;5;124mbinary\u001b[39m\u001b[38;5;124m\"\u001b[39m:\n\u001b[1;32m---> 50\u001b[0m     \u001b[38;5;28;01mraise\u001b[39;00m \u001b[38;5;167;01mValueError\u001b[39;00m(\n\u001b[0;32m     51\u001b[0m         \u001b[38;5;124mf\u001b[39m\u001b[38;5;124m\"\u001b[39m\u001b[38;5;124mThe target y is not binary. Got \u001b[39m\u001b[38;5;132;01m{\u001b[39;00mtype_of_target(y_true)\u001b[38;5;132;01m}\u001b[39;00m\u001b[38;5;124m type of\u001b[39m\u001b[38;5;124m\"\u001b[39m\n\u001b[0;32m     52\u001b[0m         \u001b[38;5;124m\"\u001b[39m\u001b[38;5;124m target.\u001b[39m\u001b[38;5;124m\"\u001b[39m\n\u001b[0;32m     53\u001b[0m     )\n\u001b[0;32m     55\u001b[0m check_consistent_length(y_true, y_pred, sample_weight)\n\u001b[0;32m     56\u001b[0m pos_label \u001b[38;5;241m=\u001b[39m _check_pos_label_consistency(pos_label, y_true)\n",
      "\u001b[1;31mValueError\u001b[0m: The target y is not binary. Got multilabel-indicator type of target."
     ]
    }
   ],
   "source": [
    "result = mlflow.evaluate(\n",
    "    data=eval_df,\n",
    "    model_type= \"classifier\",\n",
    "    targets =\"target\",\n",
    "    predictions =\"predictions\",\n",
    "    extra_metrics=[custom_metric_accuracy,custom_metric_f1_score],\n",
    "    custom_artifacts = [custom_precision_recall_curve]\n",
    "\n",
    ")"
   ]
  },
  {
   "cell_type": "code",
   "execution_count": 49,
   "metadata": {},
   "outputs": [
    {
     "name": "stdout",
     "output_type": "stream",
     "text": [
      "[1 0]\n"
     ]
    }
   ],
   "source": [
    "print(eval_df['target'].unique())\n",
    "\n"
   ]
  },
  {
   "cell_type": "code",
   "execution_count": 50,
   "metadata": {},
   "outputs": [
    {
     "name": "stdout",
     "output_type": "stream",
     "text": [
      "0    1\n",
      "1    1\n",
      "2    1\n",
      "3    1\n",
      "4    0\n",
      "Name: target, dtype: int32\n",
      "(200,)\n"
     ]
    }
   ],
   "source": [
    "print(eval_df['target'].head())\n",
    "print(eval_df['target'].shape)\n"
   ]
  },
  {
   "cell_type": "code",
   "execution_count": null,
   "metadata": {},
   "outputs": [],
   "source": []
  }
 ],
 "metadata": {
  "kernelspec": {
   "display_name": "base",
   "language": "python",
   "name": "python3"
  },
  "language_info": {
   "codemirror_mode": {
    "name": "ipython",
    "version": 3
   },
   "file_extension": ".py",
   "mimetype": "text/x-python",
   "name": "python",
   "nbconvert_exporter": "python",
   "pygments_lexer": "ipython3",
   "version": "3.12.4"
  }
 },
 "nbformat": 4,
 "nbformat_minor": 2
}
